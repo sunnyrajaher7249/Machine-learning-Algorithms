{
 "cells": [
  {
   "cell_type": "code",
   "execution_count": 10,
   "id": "67784f64",
   "metadata": {
    "ExecuteTime": {
     "end_time": "2022-12-15T08:12:24.717089Z",
     "start_time": "2022-12-15T08:12:22.815265Z"
    }
   },
   "outputs": [],
   "source": [
    "#Import libraries\n",
    "\n",
    "import pandas as pd\n",
    "import numpy as np\n",
    "import matplotlib.pyplot as plt\n",
    "import seaborn as sns\n",
    "from sklearn.metrics import confusion_matrix,classification_report,accuracy_score, roc_auc_score, roc_curve\n",
    "from sklearn.linear_model import LogisticRegression\n",
    "from sklearn.model_selection import train_test_split\n",
    "import warnings\n",
    "warnings.filterwarnings('ignore')\n",
    "\n",
    "%matplotlib inline"
   ]
  },
  {
   "cell_type": "code",
   "execution_count": 11,
   "id": "61e26d7b",
   "metadata": {
    "ExecuteTime": {
     "end_time": "2022-12-15T08:12:49.899409Z",
     "start_time": "2022-12-15T08:12:49.853195Z"
    }
   },
   "outputs": [
    {
     "data": {
      "text/html": [
       "<div>\n",
       "<style scoped>\n",
       "    .dataframe tbody tr th:only-of-type {\n",
       "        vertical-align: middle;\n",
       "    }\n",
       "\n",
       "    .dataframe tbody tr th {\n",
       "        vertical-align: top;\n",
       "    }\n",
       "\n",
       "    .dataframe thead th {\n",
       "        text-align: right;\n",
       "    }\n",
       "</style>\n",
       "<table border=\"1\" class=\"dataframe\">\n",
       "  <thead>\n",
       "    <tr style=\"text-align: right;\">\n",
       "      <th></th>\n",
       "      <th>Pregnancies</th>\n",
       "      <th>Glucose</th>\n",
       "      <th>BloodPressure</th>\n",
       "      <th>SkinThickness</th>\n",
       "      <th>Insulin</th>\n",
       "      <th>BMI</th>\n",
       "      <th>DiabetesPedigreeFunction</th>\n",
       "      <th>Age</th>\n",
       "      <th>Outcome</th>\n",
       "    </tr>\n",
       "  </thead>\n",
       "  <tbody>\n",
       "    <tr>\n",
       "      <th>0</th>\n",
       "      <td>6</td>\n",
       "      <td>148</td>\n",
       "      <td>72</td>\n",
       "      <td>35</td>\n",
       "      <td>0</td>\n",
       "      <td>33.6</td>\n",
       "      <td>0.627</td>\n",
       "      <td>50</td>\n",
       "      <td>1</td>\n",
       "    </tr>\n",
       "    <tr>\n",
       "      <th>1</th>\n",
       "      <td>1</td>\n",
       "      <td>85</td>\n",
       "      <td>66</td>\n",
       "      <td>29</td>\n",
       "      <td>0</td>\n",
       "      <td>26.6</td>\n",
       "      <td>0.351</td>\n",
       "      <td>31</td>\n",
       "      <td>0</td>\n",
       "    </tr>\n",
       "    <tr>\n",
       "      <th>2</th>\n",
       "      <td>8</td>\n",
       "      <td>183</td>\n",
       "      <td>64</td>\n",
       "      <td>0</td>\n",
       "      <td>0</td>\n",
       "      <td>23.3</td>\n",
       "      <td>0.672</td>\n",
       "      <td>32</td>\n",
       "      <td>1</td>\n",
       "    </tr>\n",
       "    <tr>\n",
       "      <th>3</th>\n",
       "      <td>1</td>\n",
       "      <td>89</td>\n",
       "      <td>66</td>\n",
       "      <td>23</td>\n",
       "      <td>94</td>\n",
       "      <td>28.1</td>\n",
       "      <td>0.167</td>\n",
       "      <td>21</td>\n",
       "      <td>0</td>\n",
       "    </tr>\n",
       "    <tr>\n",
       "      <th>4</th>\n",
       "      <td>0</td>\n",
       "      <td>137</td>\n",
       "      <td>40</td>\n",
       "      <td>35</td>\n",
       "      <td>168</td>\n",
       "      <td>43.1</td>\n",
       "      <td>2.288</td>\n",
       "      <td>33</td>\n",
       "      <td>1</td>\n",
       "    </tr>\n",
       "  </tbody>\n",
       "</table>\n",
       "</div>"
      ],
      "text/plain": [
       "   Pregnancies  Glucose  BloodPressure  SkinThickness  Insulin   BMI  \\\n",
       "0            6      148             72             35        0  33.6   \n",
       "1            1       85             66             29        0  26.6   \n",
       "2            8      183             64              0        0  23.3   \n",
       "3            1       89             66             23       94  28.1   \n",
       "4            0      137             40             35      168  43.1   \n",
       "\n",
       "   DiabetesPedigreeFunction  Age  Outcome  \n",
       "0                     0.627   50        1  \n",
       "1                     0.351   31        0  \n",
       "2                     0.672   32        1  \n",
       "3                     0.167   21        0  \n",
       "4                     2.288   33        1  "
      ]
     },
     "execution_count": 11,
     "metadata": {},
     "output_type": "execute_result"
    }
   ],
   "source": [
    "#Data import\n",
    "\n",
    "df = pd.read_csv(r\"C:\\Users\\Aishwarya\\Desktop\\Datasets\\diabetes.csv\")\n",
    "df.head()"
   ]
  },
  {
   "cell_type": "code",
   "execution_count": 12,
   "id": "34ddc1b7",
   "metadata": {
    "ExecuteTime": {
     "end_time": "2022-12-15T08:13:29.393062Z",
     "start_time": "2022-12-15T08:13:29.341309Z"
    },
    "collapsed": true
   },
   "outputs": [
    {
     "data": {
      "text/html": [
       "<div>\n",
       "<style scoped>\n",
       "    .dataframe tbody tr th:only-of-type {\n",
       "        vertical-align: middle;\n",
       "    }\n",
       "\n",
       "    .dataframe tbody tr th {\n",
       "        vertical-align: top;\n",
       "    }\n",
       "\n",
       "    .dataframe thead th {\n",
       "        text-align: right;\n",
       "    }\n",
       "</style>\n",
       "<table border=\"1\" class=\"dataframe\">\n",
       "  <thead>\n",
       "    <tr style=\"text-align: right;\">\n",
       "      <th></th>\n",
       "      <th>Pregnancies</th>\n",
       "      <th>Glucose</th>\n",
       "      <th>BloodPressure</th>\n",
       "      <th>SkinThickness</th>\n",
       "      <th>Insulin</th>\n",
       "      <th>BMI</th>\n",
       "      <th>DiabetesPedigreeFunction</th>\n",
       "      <th>Age</th>\n",
       "      <th>Outcome</th>\n",
       "    </tr>\n",
       "  </thead>\n",
       "  <tbody>\n",
       "    <tr>\n",
       "      <th>count</th>\n",
       "      <td>768.000000</td>\n",
       "      <td>768.000000</td>\n",
       "      <td>768.000000</td>\n",
       "      <td>768.000000</td>\n",
       "      <td>768.000000</td>\n",
       "      <td>768.000000</td>\n",
       "      <td>768.000000</td>\n",
       "      <td>768.000000</td>\n",
       "      <td>768.000000</td>\n",
       "    </tr>\n",
       "    <tr>\n",
       "      <th>mean</th>\n",
       "      <td>3.845052</td>\n",
       "      <td>120.894531</td>\n",
       "      <td>69.105469</td>\n",
       "      <td>20.536458</td>\n",
       "      <td>79.799479</td>\n",
       "      <td>31.992578</td>\n",
       "      <td>0.471876</td>\n",
       "      <td>33.240885</td>\n",
       "      <td>0.348958</td>\n",
       "    </tr>\n",
       "    <tr>\n",
       "      <th>std</th>\n",
       "      <td>3.369578</td>\n",
       "      <td>31.972618</td>\n",
       "      <td>19.355807</td>\n",
       "      <td>15.952218</td>\n",
       "      <td>115.244002</td>\n",
       "      <td>7.884160</td>\n",
       "      <td>0.331329</td>\n",
       "      <td>11.760232</td>\n",
       "      <td>0.476951</td>\n",
       "    </tr>\n",
       "    <tr>\n",
       "      <th>min</th>\n",
       "      <td>0.000000</td>\n",
       "      <td>0.000000</td>\n",
       "      <td>0.000000</td>\n",
       "      <td>0.000000</td>\n",
       "      <td>0.000000</td>\n",
       "      <td>0.000000</td>\n",
       "      <td>0.078000</td>\n",
       "      <td>21.000000</td>\n",
       "      <td>0.000000</td>\n",
       "    </tr>\n",
       "    <tr>\n",
       "      <th>25%</th>\n",
       "      <td>1.000000</td>\n",
       "      <td>99.000000</td>\n",
       "      <td>62.000000</td>\n",
       "      <td>0.000000</td>\n",
       "      <td>0.000000</td>\n",
       "      <td>27.300000</td>\n",
       "      <td>0.243750</td>\n",
       "      <td>24.000000</td>\n",
       "      <td>0.000000</td>\n",
       "    </tr>\n",
       "    <tr>\n",
       "      <th>50%</th>\n",
       "      <td>3.000000</td>\n",
       "      <td>117.000000</td>\n",
       "      <td>72.000000</td>\n",
       "      <td>23.000000</td>\n",
       "      <td>30.500000</td>\n",
       "      <td>32.000000</td>\n",
       "      <td>0.372500</td>\n",
       "      <td>29.000000</td>\n",
       "      <td>0.000000</td>\n",
       "    </tr>\n",
       "    <tr>\n",
       "      <th>75%</th>\n",
       "      <td>6.000000</td>\n",
       "      <td>140.250000</td>\n",
       "      <td>80.000000</td>\n",
       "      <td>32.000000</td>\n",
       "      <td>127.250000</td>\n",
       "      <td>36.600000</td>\n",
       "      <td>0.626250</td>\n",
       "      <td>41.000000</td>\n",
       "      <td>1.000000</td>\n",
       "    </tr>\n",
       "    <tr>\n",
       "      <th>max</th>\n",
       "      <td>17.000000</td>\n",
       "      <td>199.000000</td>\n",
       "      <td>122.000000</td>\n",
       "      <td>99.000000</td>\n",
       "      <td>846.000000</td>\n",
       "      <td>67.100000</td>\n",
       "      <td>2.420000</td>\n",
       "      <td>81.000000</td>\n",
       "      <td>1.000000</td>\n",
       "    </tr>\n",
       "  </tbody>\n",
       "</table>\n",
       "</div>"
      ],
      "text/plain": [
       "       Pregnancies     Glucose  BloodPressure  SkinThickness     Insulin  \\\n",
       "count   768.000000  768.000000     768.000000     768.000000  768.000000   \n",
       "mean      3.845052  120.894531      69.105469      20.536458   79.799479   \n",
       "std       3.369578   31.972618      19.355807      15.952218  115.244002   \n",
       "min       0.000000    0.000000       0.000000       0.000000    0.000000   \n",
       "25%       1.000000   99.000000      62.000000       0.000000    0.000000   \n",
       "50%       3.000000  117.000000      72.000000      23.000000   30.500000   \n",
       "75%       6.000000  140.250000      80.000000      32.000000  127.250000   \n",
       "max      17.000000  199.000000     122.000000      99.000000  846.000000   \n",
       "\n",
       "              BMI  DiabetesPedigreeFunction         Age     Outcome  \n",
       "count  768.000000                768.000000  768.000000  768.000000  \n",
       "mean    31.992578                  0.471876   33.240885    0.348958  \n",
       "std      7.884160                  0.331329   11.760232    0.476951  \n",
       "min      0.000000                  0.078000   21.000000    0.000000  \n",
       "25%     27.300000                  0.243750   24.000000    0.000000  \n",
       "50%     32.000000                  0.372500   29.000000    0.000000  \n",
       "75%     36.600000                  0.626250   41.000000    1.000000  \n",
       "max     67.100000                  2.420000   81.000000    1.000000  "
      ]
     },
     "execution_count": 12,
     "metadata": {},
     "output_type": "execute_result"
    }
   ],
   "source": [
    "#Describe the data\n",
    "df.describe()"
   ]
  },
  {
   "cell_type": "code",
   "execution_count": 13,
   "id": "bf3517e2",
   "metadata": {
    "ExecuteTime": {
     "end_time": "2022-12-15T08:13:58.858617Z",
     "start_time": "2022-12-15T08:13:58.814824Z"
    },
    "collapsed": true
   },
   "outputs": [
    {
     "name": "stdout",
     "output_type": "stream",
     "text": [
      "<class 'pandas.core.frame.DataFrame'>\n",
      "RangeIndex: 768 entries, 0 to 767\n",
      "Data columns (total 9 columns):\n",
      " #   Column                    Non-Null Count  Dtype  \n",
      "---  ------                    --------------  -----  \n",
      " 0   Pregnancies               768 non-null    int64  \n",
      " 1   Glucose                   768 non-null    int64  \n",
      " 2   BloodPressure             768 non-null    int64  \n",
      " 3   SkinThickness             768 non-null    int64  \n",
      " 4   Insulin                   768 non-null    int64  \n",
      " 5   BMI                       768 non-null    float64\n",
      " 6   DiabetesPedigreeFunction  768 non-null    float64\n",
      " 7   Age                       768 non-null    int64  \n",
      " 8   Outcome                   768 non-null    int64  \n",
      "dtypes: float64(2), int64(7)\n",
      "memory usage: 54.1 KB\n"
     ]
    }
   ],
   "source": [
    "#Split the data\n",
    "df.info()"
   ]
  },
  {
   "cell_type": "code",
   "execution_count": 14,
   "id": "3c019c50",
   "metadata": {
    "ExecuteTime": {
     "end_time": "2022-12-15T08:14:14.554934Z",
     "start_time": "2022-12-15T08:14:14.535030Z"
    },
    "collapsed": true
   },
   "outputs": [
    {
     "data": {
      "text/plain": [
       "Pregnancies                 0\n",
       "Glucose                     0\n",
       "BloodPressure               0\n",
       "SkinThickness               0\n",
       "Insulin                     0\n",
       "BMI                         0\n",
       "DiabetesPedigreeFunction    0\n",
       "Age                         0\n",
       "Outcome                     0\n",
       "dtype: int64"
      ]
     },
     "execution_count": 14,
     "metadata": {},
     "output_type": "execute_result"
    }
   ],
   "source": [
    "df.isna().sum()"
   ]
  },
  {
   "cell_type": "code",
   "execution_count": 16,
   "id": "c35d6112",
   "metadata": {
    "ExecuteTime": {
     "end_time": "2022-12-15T08:15:19.622496Z",
     "start_time": "2022-12-15T08:15:19.598528Z"
    }
   },
   "outputs": [],
   "source": [
    "x = df.iloc[:,:-1]\n",
    "y = df.iloc[:,-1]"
   ]
  },
  {
   "cell_type": "code",
   "execution_count": 17,
   "id": "70aabb55",
   "metadata": {
    "ExecuteTime": {
     "end_time": "2022-12-15T08:15:22.097248Z",
     "start_time": "2022-12-15T08:15:22.074039Z"
    },
    "collapsed": true
   },
   "outputs": [
    {
     "data": {
      "text/html": [
       "<div>\n",
       "<style scoped>\n",
       "    .dataframe tbody tr th:only-of-type {\n",
       "        vertical-align: middle;\n",
       "    }\n",
       "\n",
       "    .dataframe tbody tr th {\n",
       "        vertical-align: top;\n",
       "    }\n",
       "\n",
       "    .dataframe thead th {\n",
       "        text-align: right;\n",
       "    }\n",
       "</style>\n",
       "<table border=\"1\" class=\"dataframe\">\n",
       "  <thead>\n",
       "    <tr style=\"text-align: right;\">\n",
       "      <th></th>\n",
       "      <th>Pregnancies</th>\n",
       "      <th>Glucose</th>\n",
       "      <th>BloodPressure</th>\n",
       "      <th>SkinThickness</th>\n",
       "      <th>Insulin</th>\n",
       "      <th>BMI</th>\n",
       "      <th>DiabetesPedigreeFunction</th>\n",
       "      <th>Age</th>\n",
       "    </tr>\n",
       "  </thead>\n",
       "  <tbody>\n",
       "    <tr>\n",
       "      <th>0</th>\n",
       "      <td>6</td>\n",
       "      <td>148</td>\n",
       "      <td>72</td>\n",
       "      <td>35</td>\n",
       "      <td>0</td>\n",
       "      <td>33.6</td>\n",
       "      <td>0.627</td>\n",
       "      <td>50</td>\n",
       "    </tr>\n",
       "    <tr>\n",
       "      <th>1</th>\n",
       "      <td>1</td>\n",
       "      <td>85</td>\n",
       "      <td>66</td>\n",
       "      <td>29</td>\n",
       "      <td>0</td>\n",
       "      <td>26.6</td>\n",
       "      <td>0.351</td>\n",
       "      <td>31</td>\n",
       "    </tr>\n",
       "    <tr>\n",
       "      <th>2</th>\n",
       "      <td>8</td>\n",
       "      <td>183</td>\n",
       "      <td>64</td>\n",
       "      <td>0</td>\n",
       "      <td>0</td>\n",
       "      <td>23.3</td>\n",
       "      <td>0.672</td>\n",
       "      <td>32</td>\n",
       "    </tr>\n",
       "    <tr>\n",
       "      <th>3</th>\n",
       "      <td>1</td>\n",
       "      <td>89</td>\n",
       "      <td>66</td>\n",
       "      <td>23</td>\n",
       "      <td>94</td>\n",
       "      <td>28.1</td>\n",
       "      <td>0.167</td>\n",
       "      <td>21</td>\n",
       "    </tr>\n",
       "    <tr>\n",
       "      <th>4</th>\n",
       "      <td>0</td>\n",
       "      <td>137</td>\n",
       "      <td>40</td>\n",
       "      <td>35</td>\n",
       "      <td>168</td>\n",
       "      <td>43.1</td>\n",
       "      <td>2.288</td>\n",
       "      <td>33</td>\n",
       "    </tr>\n",
       "    <tr>\n",
       "      <th>...</th>\n",
       "      <td>...</td>\n",
       "      <td>...</td>\n",
       "      <td>...</td>\n",
       "      <td>...</td>\n",
       "      <td>...</td>\n",
       "      <td>...</td>\n",
       "      <td>...</td>\n",
       "      <td>...</td>\n",
       "    </tr>\n",
       "    <tr>\n",
       "      <th>763</th>\n",
       "      <td>10</td>\n",
       "      <td>101</td>\n",
       "      <td>76</td>\n",
       "      <td>48</td>\n",
       "      <td>180</td>\n",
       "      <td>32.9</td>\n",
       "      <td>0.171</td>\n",
       "      <td>63</td>\n",
       "    </tr>\n",
       "    <tr>\n",
       "      <th>764</th>\n",
       "      <td>2</td>\n",
       "      <td>122</td>\n",
       "      <td>70</td>\n",
       "      <td>27</td>\n",
       "      <td>0</td>\n",
       "      <td>36.8</td>\n",
       "      <td>0.340</td>\n",
       "      <td>27</td>\n",
       "    </tr>\n",
       "    <tr>\n",
       "      <th>765</th>\n",
       "      <td>5</td>\n",
       "      <td>121</td>\n",
       "      <td>72</td>\n",
       "      <td>23</td>\n",
       "      <td>112</td>\n",
       "      <td>26.2</td>\n",
       "      <td>0.245</td>\n",
       "      <td>30</td>\n",
       "    </tr>\n",
       "    <tr>\n",
       "      <th>766</th>\n",
       "      <td>1</td>\n",
       "      <td>126</td>\n",
       "      <td>60</td>\n",
       "      <td>0</td>\n",
       "      <td>0</td>\n",
       "      <td>30.1</td>\n",
       "      <td>0.349</td>\n",
       "      <td>47</td>\n",
       "    </tr>\n",
       "    <tr>\n",
       "      <th>767</th>\n",
       "      <td>1</td>\n",
       "      <td>93</td>\n",
       "      <td>70</td>\n",
       "      <td>31</td>\n",
       "      <td>0</td>\n",
       "      <td>30.4</td>\n",
       "      <td>0.315</td>\n",
       "      <td>23</td>\n",
       "    </tr>\n",
       "  </tbody>\n",
       "</table>\n",
       "<p>768 rows × 8 columns</p>\n",
       "</div>"
      ],
      "text/plain": [
       "     Pregnancies  Glucose  BloodPressure  SkinThickness  Insulin   BMI  \\\n",
       "0              6      148             72             35        0  33.6   \n",
       "1              1       85             66             29        0  26.6   \n",
       "2              8      183             64              0        0  23.3   \n",
       "3              1       89             66             23       94  28.1   \n",
       "4              0      137             40             35      168  43.1   \n",
       "..           ...      ...            ...            ...      ...   ...   \n",
       "763           10      101             76             48      180  32.9   \n",
       "764            2      122             70             27        0  36.8   \n",
       "765            5      121             72             23      112  26.2   \n",
       "766            1      126             60              0        0  30.1   \n",
       "767            1       93             70             31        0  30.4   \n",
       "\n",
       "     DiabetesPedigreeFunction  Age  \n",
       "0                       0.627   50  \n",
       "1                       0.351   31  \n",
       "2                       0.672   32  \n",
       "3                       0.167   21  \n",
       "4                       2.288   33  \n",
       "..                        ...  ...  \n",
       "763                     0.171   63  \n",
       "764                     0.340   27  \n",
       "765                     0.245   30  \n",
       "766                     0.349   47  \n",
       "767                     0.315   23  \n",
       "\n",
       "[768 rows x 8 columns]"
      ]
     },
     "execution_count": 17,
     "metadata": {},
     "output_type": "execute_result"
    }
   ],
   "source": [
    "x"
   ]
  },
  {
   "cell_type": "code",
   "execution_count": 18,
   "id": "565fb7ec",
   "metadata": {
    "ExecuteTime": {
     "end_time": "2022-12-15T08:15:27.559176Z",
     "start_time": "2022-12-15T08:15:27.539888Z"
    },
    "collapsed": true
   },
   "outputs": [
    {
     "data": {
      "text/plain": [
       "0      1\n",
       "1      0\n",
       "2      1\n",
       "3      0\n",
       "4      1\n",
       "      ..\n",
       "763    0\n",
       "764    0\n",
       "765    0\n",
       "766    1\n",
       "767    0\n",
       "Name: Outcome, Length: 768, dtype: int64"
      ]
     },
     "execution_count": 18,
     "metadata": {},
     "output_type": "execute_result"
    }
   ],
   "source": [
    "y"
   ]
  },
  {
   "cell_type": "markdown",
   "id": "4c34ec42",
   "metadata": {
    "ExecuteTime": {
     "end_time": "2022-12-15T07:07:13.193975Z",
     "start_time": "2022-12-15T07:07:13.173395Z"
    }
   },
   "source": [
    "# Model Building"
   ]
  },
  {
   "cell_type": "code",
   "execution_count": 19,
   "id": "719ded3c",
   "metadata": {
    "ExecuteTime": {
     "end_time": "2022-12-15T08:15:56.247424Z",
     "start_time": "2022-12-15T08:15:56.228095Z"
    }
   },
   "outputs": [],
   "source": [
    "xtrain,xtest,ytrain,ytest = train_test_split(x,y,test_size=0.2, random_state=1)"
   ]
  },
  {
   "cell_type": "code",
   "execution_count": 20,
   "id": "adaffa0a",
   "metadata": {
    "ExecuteTime": {
     "end_time": "2022-12-15T08:16:11.076094Z",
     "start_time": "2022-12-15T08:16:11.066552Z"
    }
   },
   "outputs": [],
   "source": [
    "lg = LogisticRegression()"
   ]
  },
  {
   "cell_type": "code",
   "execution_count": 21,
   "id": "03f05d72",
   "metadata": {
    "ExecuteTime": {
     "end_time": "2022-12-15T08:16:31.777979Z",
     "start_time": "2022-12-15T08:16:31.698816Z"
    }
   },
   "outputs": [],
   "source": [
    "lg.fit(xtrain,ytrain)\n",
    "\n",
    "ypred = lg.predict(xtest)"
   ]
  },
  {
   "cell_type": "code",
   "execution_count": 22,
   "id": "e94dd888",
   "metadata": {
    "ExecuteTime": {
     "end_time": "2022-12-15T08:16:46.077290Z",
     "start_time": "2022-12-15T08:16:46.058294Z"
    }
   },
   "outputs": [
    {
     "data": {
      "text/plain": [
       "array([[89, 10],\n",
       "       [24, 31]], dtype=int64)"
      ]
     },
     "execution_count": 22,
     "metadata": {},
     "output_type": "execute_result"
    }
   ],
   "source": [
    "confusion_matrix(ytest,ypred)"
   ]
  },
  {
   "cell_type": "code",
   "execution_count": 27,
   "id": "71723548",
   "metadata": {
    "ExecuteTime": {
     "end_time": "2022-12-15T08:18:52.401527Z",
     "start_time": "2022-12-15T08:18:52.380160Z"
    }
   },
   "outputs": [],
   "source": [
    "plt.rcParams['figure.figsize'] = (10,5)\n",
    "plt.rcParams['figure.dpi'] = 200\n",
    "\n",
    "sns.set_style('darkgrid')"
   ]
  },
  {
   "cell_type": "code",
   "execution_count": 28,
   "id": "54294ae6",
   "metadata": {
    "ExecuteTime": {
     "end_time": "2022-12-15T08:19:13.804111Z",
     "start_time": "2022-12-15T08:19:13.503496Z"
    },
    "collapsed": true
   },
   "outputs": [
    {
     "data": {
      "text/plain": [
       "Text(193.44444444444443, 0.5, 'Actual Values')"
      ]
     },
     "execution_count": 28,
     "metadata": {},
     "output_type": "execute_result"
    },
    {
     "data": {
      "image/png": "[encoded data removed]",
      "text/plain": [
       "<Figure size 2000x1000 with 2 Axes>"
      ]
     },
     "metadata": {},
     "output_type": "display_data"
    }
   ],
   "source": [
    "sns.heatmap(confusion_matrix(ytest,ypred), annot=True)\n",
    "plt.xlabel('Predicted Values')\n",
    "plt.ylabel('Actual Values')"
   ]
  },
  {
   "cell_type": "code",
   "execution_count": 29,
   "id": "6cba46e6",
   "metadata": {
    "ExecuteTime": {
     "end_time": "2022-12-15T08:20:43.974702Z",
     "start_time": "2022-12-15T08:20:43.953081Z"
    },
    "collapsed": true
   },
   "outputs": [
    {
     "name": "stdout",
     "output_type": "stream",
     "text": [
      "              precision    recall  f1-score   support\n",
      "\n",
      "           0       0.79      0.90      0.84        99\n",
      "           1       0.76      0.56      0.65        55\n",
      "\n",
      "    accuracy                           0.78       154\n",
      "   macro avg       0.77      0.73      0.74       154\n",
      "weighted avg       0.78      0.78      0.77       154\n",
      "\n"
     ]
    }
   ],
   "source": [
    "print(classification_report(ytest,ypred))"
   ]
  },
  {
   "cell_type": "code",
   "execution_count": 5,
   "id": "0943114a",
   "metadata": {
    "ExecuteTime": {
     "end_time": "2022-12-15T07:17:40.053750Z",
     "start_time": "2022-12-15T07:17:40.043830Z"
    }
   },
   "outputs": [],
   "source": [
    "#compare the prediction of the model"
   ]
  },
  {
   "cell_type": "code",
   "execution_count": 30,
   "id": "cd6f514a",
   "metadata": {
    "ExecuteTime": {
     "end_time": "2022-12-15T08:24:11.804786Z",
     "start_time": "2022-12-15T08:24:11.782096Z"
    }
   },
   "outputs": [
    {
     "name": "stdout",
     "output_type": "stream",
     "text": [
      "[0 0 0 0 0 0 0 0 0 0 0 0 1 1 0 1 1 0 0 0 1 1 1 1 0 0 0 1 0 1]\n",
      "[0 0 0 0 0 0 0 0 0 0 0 0 1 1 0 1 0 0 0 0 0 0 1 0 0 0 0 1 0 1]\n"
     ]
    }
   ],
   "source": [
    "print(ytest[:30].values)\n",
    "print(ypred[:30])"
   ]
  },
  {
   "cell_type": "code",
   "execution_count": 6,
   "id": "192d144e",
   "metadata": {
    "ExecuteTime": {
     "end_time": "2022-12-15T07:17:40.069822Z",
     "start_time": "2022-12-15T07:17:40.056813Z"
    }
   },
   "outputs": [],
   "source": [
    "#Select the probability of records being the class 1"
   ]
  },
  {
   "cell_type": "code",
   "execution_count": 32,
   "id": "445069e9",
   "metadata": {
    "ExecuteTime": {
     "end_time": "2022-12-15T08:26:10.108188Z",
     "start_time": "2022-12-15T08:26:10.099306Z"
    }
   },
   "outputs": [
    {
     "data": {
      "text/plain": [
       "285    0\n",
       "101    0\n",
       "581    0\n",
       "352    0\n",
       "726    0\n",
       "      ..\n",
       "563    0\n",
       "318    0\n",
       "154    1\n",
       "684    0\n",
       "643    0\n",
       "Name: Outcome, Length: 154, dtype: int64"
      ]
     },
     "execution_count": 32,
     "metadata": {},
     "output_type": "execute_result"
    }
   ],
   "source": [
    "ytest"
   ]
  },
  {
   "cell_type": "code",
   "execution_count": 33,
   "id": "7f276feb",
   "metadata": {
    "ExecuteTime": {
     "end_time": "2022-12-15T08:29:15.600722Z",
     "start_time": "2022-12-15T08:29:15.575091Z"
    },
    "collapsed": true
   },
   "outputs": [
    {
     "data": {
      "text/plain": [
       "array([0.4525003 , 0.31273458, 0.15063155, 0.03981934, 0.20004857,\n",
       "       0.24996917, 0.36382479, 0.10070522, 0.13384543, 0.1679335 ,\n",
       "       0.45270112, 0.0750774 , 0.99111823, 0.75213087, 0.05271067,\n",
       "       0.74517402, 0.22421737, 0.31156364, 0.11814672, 0.16703088,\n",
       "       0.44699589, 0.17768742, 0.96868854, 0.26450766, 0.06785126,\n",
       "       0.3747011 , 0.17347246, 0.80868162, 0.08442912, 0.57969826,\n",
       "       0.43040914, 0.33382125, 0.06066439, 0.6618345 , 0.13929027,\n",
       "       0.60023829, 0.09989085, 0.19115836, 0.09751189, 0.5876139 ,\n",
       "       0.1989684 , 0.08279894, 0.0393773 , 0.35623556, 0.07725967,\n",
       "       0.02226578, 0.71431644, 0.83024159, 0.08102887, 0.12656897,\n",
       "       0.00863145, 0.2080832 , 0.87650432, 0.04740481, 0.78236883,\n",
       "       0.10617044, 0.62410021, 0.34216432, 0.54135523, 0.13534589,\n",
       "       0.62319285, 0.01491133, 0.72449439, 0.18729713, 0.33070357,\n",
       "       0.10124343, 0.01033961, 0.2918393 , 0.7241249 , 0.65272501,\n",
       "       0.882898  , 0.71666728, 0.62730026, 0.01578168, 0.7107649 ,\n",
       "       0.28944064, 0.70044113, 0.30609531, 0.14279803, 0.67096545,\n",
       "       0.63391512, 0.23028471, 0.39484848, 0.30253814, 0.27010744,\n",
       "       0.73209363, 0.58464542, 0.31476103, 0.2883206 , 0.29253859,\n",
       "       0.12094768, 0.04071306, 0.27296631, 0.08656858, 0.77213319,\n",
       "       0.49506372, 0.24264442, 0.19874592, 0.86545627, 0.12461836,\n",
       "       0.15463886, 0.26996934, 0.66522177, 0.26032127, 0.10235185,\n",
       "       0.07395454, 0.52466138, 0.60182384, 0.21009617, 0.10860908,\n",
       "       0.39473945, 0.04261517, 0.41872734, 0.17583242, 0.01780425,\n",
       "       0.05957838, 0.11347329, 0.37340957, 0.29175672, 0.41585091,\n",
       "       0.22849951, 0.88791369, 0.34699155, 0.30213835, 0.13457159,\n",
       "       0.12914464, 0.28367913, 0.41147537, 0.63312612, 0.22282305,\n",
       "       0.95862591, 0.03626264, 0.4209736 , 0.36075731, 0.16054761,\n",
       "       0.26843997, 0.09836712, 0.68785515, 0.13421274, 0.22335961,\n",
       "       0.96114746, 0.10160801, 0.17734414, 0.82144422, 0.69948453,\n",
       "       0.46962849, 0.0484374 , 0.07413005, 0.17471939, 0.16404614,\n",
       "       0.2464426 , 0.95812947, 0.08829613, 0.26478432])"
      ]
     },
     "execution_count": 33,
     "metadata": {},
     "output_type": "execute_result"
    }
   ],
   "source": [
    "proba = lg.predict_proba(xtest)[:,1]\n",
    "\n",
    "proba"
   ]
  },
  {
   "cell_type": "code",
   "execution_count": 7,
   "id": "fc62dda1",
   "metadata": {
    "ExecuteTime": {
     "end_time": "2022-12-15T07:17:40.084972Z",
     "start_time": "2022-12-15T07:17:40.072822Z"
    }
   },
   "outputs": [],
   "source": [
    "#plot the roc auc curve for prediction and proabilities"
   ]
  },
  {
   "cell_type": "code",
   "execution_count": 38,
   "id": "e9ef118c",
   "metadata": {
    "ExecuteTime": {
     "end_time": "2022-12-15T08:37:16.038911Z",
     "start_time": "2022-12-15T08:37:16.026062Z"
    }
   },
   "outputs": [
    {
     "data": {
      "text/plain": [
       "0.8442607897153351"
      ]
     },
     "execution_count": 38,
     "metadata": {},
     "output_type": "execute_result"
    }
   ],
   "source": [
    "auc"
   ]
  },
  {
   "cell_type": "code",
   "execution_count": 37,
   "id": "ad4db7b7",
   "metadata": {
    "ExecuteTime": {
     "end_time": "2022-12-15T08:36:17.982657Z",
     "start_time": "2022-12-15T08:36:17.664301Z"
    },
    "collapsed": true
   },
   "outputs": [
    {
     "data": {
      "text/plain": [
       "<matplotlib.legend.Legend at 0x1e2f99dd2e0>"
      ]
     },
     "execution_count": 37,
     "metadata": {},
     "output_type": "execute_result"
    },
    {
     "data": {
      "image/png": "[encoded data removed]",
      "text/plain": [
       "<Figure size 2000x1000 with 1 Axes>"
      ]
     },
     "metadata": {},
     "output_type": "display_data"
    }
   ],
   "source": [
    "auc = roc_auc_score(ytest,proba)\n",
    "\n",
    "fpr,tpr, threshold = roc_curve(ytest,proba)\n",
    "\n",
    "plt.plot(fpr, tpr,color = 'red', label = 'AUC = %0.2f'%auc)\n",
    "plt.xlabel('False Positive Rate')\n",
    "plt.ylabel('True Positive Rate')\n",
    "plt.legend()"
   ]
  },
  {
   "cell_type": "markdown",
   "id": "a367c990",
   "metadata": {},
   "source": [
    "# Select the best threshold value for the model."
   ]
  },
  {
   "cell_type": "code",
   "execution_count": 39,
   "id": "ae7a94b8",
   "metadata": {
    "ExecuteTime": {
     "end_time": "2022-12-15T08:37:59.243160Z",
     "start_time": "2022-12-15T08:37:59.226658Z"
    },
    "collapsed": true
   },
   "outputs": [
    {
     "data": {
      "text/plain": [
       "array([1.99111823, 0.99111823, 0.74517402, 0.73209363, 0.72449439,\n",
       "       0.71666728, 0.69948453, 0.68785515, 0.63391512, 0.62730026,\n",
       "       0.62410021, 0.60182384, 0.60023829, 0.5876139 , 0.57969826,\n",
       "       0.54135523, 0.52466138, 0.49506372, 0.46962849, 0.4525003 ,\n",
       "       0.4209736 , 0.41872734, 0.39473945, 0.3747011 , 0.37340957,\n",
       "       0.36075731, 0.34699155, 0.33382125, 0.33070357, 0.30609531,\n",
       "       0.30253814, 0.29253859, 0.2918393 , 0.29175672, 0.28944064,\n",
       "       0.26478432, 0.26450766, 0.22849951, 0.22421737, 0.22282305,\n",
       "       0.21009617, 0.18729713, 0.17768742, 0.17583242, 0.17471939,\n",
       "       0.13457159, 0.13421274, 0.12914464, 0.12656897, 0.02226578,\n",
       "       0.01780425, 0.01491133, 0.01033961, 0.00863145])"
      ]
     },
     "execution_count": 39,
     "metadata": {},
     "output_type": "execute_result"
    }
   ],
   "source": [
    "#Threshold values\n",
    "threshold"
   ]
  },
  {
   "cell_type": "code",
   "execution_count": 44,
   "id": "f7788b34",
   "metadata": {
    "ExecuteTime": {
     "end_time": "2022-12-15T08:49:24.342710Z",
     "start_time": "2022-12-15T08:49:24.302607Z"
    },
    "collapsed": true
   },
   "outputs": [
    {
     "data": {
      "text/html": [
       "<div>\n",
       "<style scoped>\n",
       "    .dataframe tbody tr th:only-of-type {\n",
       "        vertical-align: middle;\n",
       "    }\n",
       "\n",
       "    .dataframe tbody tr th {\n",
       "        vertical-align: top;\n",
       "    }\n",
       "\n",
       "    .dataframe thead th {\n",
       "        text-align: right;\n",
       "    }\n",
       "</style>\n",
       "<table border=\"1\" class=\"dataframe\">\n",
       "  <thead>\n",
       "    <tr style=\"text-align: right;\">\n",
       "      <th></th>\n",
       "      <th>Accuracy</th>\n",
       "      <th>Threshold</th>\n",
       "    </tr>\n",
       "  </thead>\n",
       "  <tbody>\n",
       "    <tr>\n",
       "      <th>23</th>\n",
       "      <td>0.805195</td>\n",
       "      <td>0.374701</td>\n",
       "    </tr>\n",
       "    <tr>\n",
       "      <th>27</th>\n",
       "      <td>0.798701</td>\n",
       "      <td>0.333821</td>\n",
       "    </tr>\n",
       "    <tr>\n",
       "      <th>22</th>\n",
       "      <td>0.798701</td>\n",
       "      <td>0.394739</td>\n",
       "    </tr>\n",
       "    <tr>\n",
       "      <th>26</th>\n",
       "      <td>0.798701</td>\n",
       "      <td>0.346992</td>\n",
       "    </tr>\n",
       "    <tr>\n",
       "      <th>25</th>\n",
       "      <td>0.798701</td>\n",
       "      <td>0.360757</td>\n",
       "    </tr>\n",
       "    <tr>\n",
       "      <th>24</th>\n",
       "      <td>0.798701</td>\n",
       "      <td>0.373410</td>\n",
       "    </tr>\n",
       "    <tr>\n",
       "      <th>28</th>\n",
       "      <td>0.792208</td>\n",
       "      <td>0.330704</td>\n",
       "    </tr>\n",
       "    <tr>\n",
       "      <th>21</th>\n",
       "      <td>0.785714</td>\n",
       "      <td>0.418727</td>\n",
       "    </tr>\n",
       "    <tr>\n",
       "      <th>8</th>\n",
       "      <td>0.779221</td>\n",
       "      <td>0.633915</td>\n",
       "    </tr>\n",
       "    <tr>\n",
       "      <th>15</th>\n",
       "      <td>0.779221</td>\n",
       "      <td>0.541355</td>\n",
       "    </tr>\n",
       "    <tr>\n",
       "      <th>9</th>\n",
       "      <td>0.779221</td>\n",
       "      <td>0.627300</td>\n",
       "    </tr>\n",
       "    <tr>\n",
       "      <th>20</th>\n",
       "      <td>0.779221</td>\n",
       "      <td>0.420974</td>\n",
       "    </tr>\n",
       "    <tr>\n",
       "      <th>17</th>\n",
       "      <td>0.779221</td>\n",
       "      <td>0.495064</td>\n",
       "    </tr>\n",
       "    <tr>\n",
       "      <th>29</th>\n",
       "      <td>0.779221</td>\n",
       "      <td>0.306095</td>\n",
       "    </tr>\n",
       "    <tr>\n",
       "      <th>14</th>\n",
       "      <td>0.772727</td>\n",
       "      <td>0.579698</td>\n",
       "    </tr>\n",
       "    <tr>\n",
       "      <th>13</th>\n",
       "      <td>0.772727</td>\n",
       "      <td>0.587614</td>\n",
       "    </tr>\n",
       "    <tr>\n",
       "      <th>16</th>\n",
       "      <td>0.772727</td>\n",
       "      <td>0.524661</td>\n",
       "    </tr>\n",
       "    <tr>\n",
       "      <th>18</th>\n",
       "      <td>0.772727</td>\n",
       "      <td>0.469628</td>\n",
       "    </tr>\n",
       "    <tr>\n",
       "      <th>30</th>\n",
       "      <td>0.772727</td>\n",
       "      <td>0.302538</td>\n",
       "    </tr>\n",
       "    <tr>\n",
       "      <th>11</th>\n",
       "      <td>0.772727</td>\n",
       "      <td>0.601824</td>\n",
       "    </tr>\n",
       "    <tr>\n",
       "      <th>33</th>\n",
       "      <td>0.772727</td>\n",
       "      <td>0.291757</td>\n",
       "    </tr>\n",
       "    <tr>\n",
       "      <th>10</th>\n",
       "      <td>0.772727</td>\n",
       "      <td>0.624100</td>\n",
       "    </tr>\n",
       "    <tr>\n",
       "      <th>31</th>\n",
       "      <td>0.772727</td>\n",
       "      <td>0.292539</td>\n",
       "    </tr>\n",
       "    <tr>\n",
       "      <th>19</th>\n",
       "      <td>0.772727</td>\n",
       "      <td>0.452500</td>\n",
       "    </tr>\n",
       "    <tr>\n",
       "      <th>12</th>\n",
       "      <td>0.766234</td>\n",
       "      <td>0.600238</td>\n",
       "    </tr>\n",
       "    <tr>\n",
       "      <th>34</th>\n",
       "      <td>0.766234</td>\n",
       "      <td>0.289441</td>\n",
       "    </tr>\n",
       "    <tr>\n",
       "      <th>32</th>\n",
       "      <td>0.766234</td>\n",
       "      <td>0.291839</td>\n",
       "    </tr>\n",
       "    <tr>\n",
       "      <th>7</th>\n",
       "      <td>0.759740</td>\n",
       "      <td>0.687855</td>\n",
       "    </tr>\n",
       "    <tr>\n",
       "      <th>6</th>\n",
       "      <td>0.753247</td>\n",
       "      <td>0.699485</td>\n",
       "    </tr>\n",
       "    <tr>\n",
       "      <th>3</th>\n",
       "      <td>0.746753</td>\n",
       "      <td>0.732094</td>\n",
       "    </tr>\n",
       "    <tr>\n",
       "      <th>4</th>\n",
       "      <td>0.740260</td>\n",
       "      <td>0.724494</td>\n",
       "    </tr>\n",
       "    <tr>\n",
       "      <th>2</th>\n",
       "      <td>0.740260</td>\n",
       "      <td>0.745174</td>\n",
       "    </tr>\n",
       "    <tr>\n",
       "      <th>5</th>\n",
       "      <td>0.740260</td>\n",
       "      <td>0.716667</td>\n",
       "    </tr>\n",
       "    <tr>\n",
       "      <th>35</th>\n",
       "      <td>0.733766</td>\n",
       "      <td>0.264784</td>\n",
       "    </tr>\n",
       "    <tr>\n",
       "      <th>36</th>\n",
       "      <td>0.727273</td>\n",
       "      <td>0.264508</td>\n",
       "    </tr>\n",
       "    <tr>\n",
       "      <th>37</th>\n",
       "      <td>0.701299</td>\n",
       "      <td>0.228500</td>\n",
       "    </tr>\n",
       "    <tr>\n",
       "      <th>38</th>\n",
       "      <td>0.694805</td>\n",
       "      <td>0.224217</td>\n",
       "    </tr>\n",
       "    <tr>\n",
       "      <th>39</th>\n",
       "      <td>0.694805</td>\n",
       "      <td>0.222823</td>\n",
       "    </tr>\n",
       "    <tr>\n",
       "      <th>40</th>\n",
       "      <td>0.688312</td>\n",
       "      <td>0.210096</td>\n",
       "    </tr>\n",
       "    <tr>\n",
       "      <th>41</th>\n",
       "      <td>0.662338</td>\n",
       "      <td>0.187297</td>\n",
       "    </tr>\n",
       "    <tr>\n",
       "      <th>43</th>\n",
       "      <td>0.655844</td>\n",
       "      <td>0.175832</td>\n",
       "    </tr>\n",
       "    <tr>\n",
       "      <th>42</th>\n",
       "      <td>0.655844</td>\n",
       "      <td>0.177687</td>\n",
       "    </tr>\n",
       "    <tr>\n",
       "      <th>44</th>\n",
       "      <td>0.649351</td>\n",
       "      <td>0.174719</td>\n",
       "    </tr>\n",
       "    <tr>\n",
       "      <th>0</th>\n",
       "      <td>0.642857</td>\n",
       "      <td>1.991118</td>\n",
       "    </tr>\n",
       "    <tr>\n",
       "      <th>1</th>\n",
       "      <td>0.642857</td>\n",
       "      <td>0.991118</td>\n",
       "    </tr>\n",
       "    <tr>\n",
       "      <th>45</th>\n",
       "      <td>0.590909</td>\n",
       "      <td>0.134572</td>\n",
       "    </tr>\n",
       "    <tr>\n",
       "      <th>46</th>\n",
       "      <td>0.584416</td>\n",
       "      <td>0.134213</td>\n",
       "    </tr>\n",
       "    <tr>\n",
       "      <th>47</th>\n",
       "      <td>0.584416</td>\n",
       "      <td>0.129145</td>\n",
       "    </tr>\n",
       "    <tr>\n",
       "      <th>48</th>\n",
       "      <td>0.577922</td>\n",
       "      <td>0.126569</td>\n",
       "    </tr>\n",
       "    <tr>\n",
       "      <th>49</th>\n",
       "      <td>0.370130</td>\n",
       "      <td>0.022266</td>\n",
       "    </tr>\n",
       "    <tr>\n",
       "      <th>50</th>\n",
       "      <td>0.363636</td>\n",
       "      <td>0.017804</td>\n",
       "    </tr>\n",
       "    <tr>\n",
       "      <th>51</th>\n",
       "      <td>0.363636</td>\n",
       "      <td>0.014911</td>\n",
       "    </tr>\n",
       "    <tr>\n",
       "      <th>53</th>\n",
       "      <td>0.363636</td>\n",
       "      <td>0.008631</td>\n",
       "    </tr>\n",
       "    <tr>\n",
       "      <th>52</th>\n",
       "      <td>0.357143</td>\n",
       "      <td>0.010340</td>\n",
       "    </tr>\n",
       "  </tbody>\n",
       "</table>\n",
       "</div>"
      ],
      "text/plain": [
       "    Accuracy  Threshold\n",
       "23  0.805195   0.374701\n",
       "27  0.798701   0.333821\n",
       "22  0.798701   0.394739\n",
       "26  0.798701   0.346992\n",
       "25  0.798701   0.360757\n",
       "24  0.798701   0.373410\n",
       "28  0.792208   0.330704\n",
       "21  0.785714   0.418727\n",
       "8   0.779221   0.633915\n",
       "15  0.779221   0.541355\n",
       "9   0.779221   0.627300\n",
       "20  0.779221   0.420974\n",
       "17  0.779221   0.495064\n",
       "29  0.779221   0.306095\n",
       "14  0.772727   0.579698\n",
       "13  0.772727   0.587614\n",
       "16  0.772727   0.524661\n",
       "18  0.772727   0.469628\n",
       "30  0.772727   0.302538\n",
       "11  0.772727   0.601824\n",
       "33  0.772727   0.291757\n",
       "10  0.772727   0.624100\n",
       "31  0.772727   0.292539\n",
       "19  0.772727   0.452500\n",
       "12  0.766234   0.600238\n",
       "34  0.766234   0.289441\n",
       "32  0.766234   0.291839\n",
       "7   0.759740   0.687855\n",
       "6   0.753247   0.699485\n",
       "3   0.746753   0.732094\n",
       "4   0.740260   0.724494\n",
       "2   0.740260   0.745174\n",
       "5   0.740260   0.716667\n",
       "35  0.733766   0.264784\n",
       "36  0.727273   0.264508\n",
       "37  0.701299   0.228500\n",
       "38  0.694805   0.224217\n",
       "39  0.694805   0.222823\n",
       "40  0.688312   0.210096\n",
       "41  0.662338   0.187297\n",
       "43  0.655844   0.175832\n",
       "42  0.655844   0.177687\n",
       "44  0.649351   0.174719\n",
       "0   0.642857   1.991118\n",
       "1   0.642857   0.991118\n",
       "45  0.590909   0.134572\n",
       "46  0.584416   0.134213\n",
       "47  0.584416   0.129145\n",
       "48  0.577922   0.126569\n",
       "49  0.370130   0.022266\n",
       "50  0.363636   0.017804\n",
       "51  0.363636   0.014911\n",
       "53  0.363636   0.008631\n",
       "52  0.357143   0.010340"
      ]
     },
     "execution_count": 44,
     "metadata": {},
     "output_type": "execute_result"
    }
   ],
   "source": [
    "accuracy = []\n",
    "\n",
    "for i in threshold:\n",
    "    ypred = np.where(proba>i,1,0)\n",
    "    accuracy.append(accuracy_score(ytest,ypred))\n",
    "    \n",
    "thrshold_selection = pd.concat([pd.Series(accuracy),pd.Series(threshold)], axis = 1)\n",
    "thrshold_selection.columns = ['Accuracy','Threshold']\n",
    "thrshold_selection.sort_values(by = 'Accuracy', ascending=False)"
   ]
  },
  {
   "cell_type": "code",
   "execution_count": 48,
   "id": "880774ca",
   "metadata": {
    "ExecuteTime": {
     "end_time": "2022-12-15T08:53:17.075103Z",
     "start_time": "2022-12-15T08:53:17.066769Z"
    }
   },
   "outputs": [],
   "source": [
    "from sklearn.preprocessing import binarize\n",
    "\n",
    "final_y = binarize([proba], threshold=0.37)[0]"
   ]
  },
  {
   "cell_type": "code",
   "execution_count": 9,
   "id": "960e8ad2",
   "metadata": {
    "ExecuteTime": {
     "end_time": "2022-12-15T07:17:40.116649Z",
     "start_time": "2022-12-15T07:17:40.106514Z"
    }
   },
   "outputs": [],
   "source": [
    "#Check the accuracy for the model with selected threshold"
   ]
  },
  {
   "cell_type": "code",
   "execution_count": 49,
   "id": "d6aaab7a",
   "metadata": {
    "ExecuteTime": {
     "end_time": "2022-12-15T08:53:39.906966Z",
     "start_time": "2022-12-15T08:53:39.881065Z"
    }
   },
   "outputs": [
    {
     "name": "stdout",
     "output_type": "stream",
     "text": [
      "              precision    recall  f1-score   support\n",
      "\n",
      "           0       0.85      0.85      0.85        99\n",
      "           1       0.73      0.73      0.73        55\n",
      "\n",
      "    accuracy                           0.81       154\n",
      "   macro avg       0.79      0.79      0.79       154\n",
      "weighted avg       0.81      0.81      0.81       154\n",
      "\n"
     ]
    }
   ],
   "source": [
    "print(classification_report(ytest,final_y))"
   ]
  },
  {
   "cell_type": "code",
   "execution_count": null,
   "id": "96dea5b8",
   "metadata": {},
   "outputs": [],
   "source": []
  }
 ],
 "metadata": {
  "kernelspec": {
   "display_name": "Python 3 (ipykernel)",
   "language": "python",
   "name": "python3"
  },
  "language_info": {
   "codemirror_mode": {
    "name": "ipython",
    "version": 3
   },
   "file_extension": ".py",
   "mimetype": "text/x-python",
   "name": "python",
   "nbconvert_exporter": "python",
   "pygments_lexer": "ipython3",
   "version": "3.9.13"
  }
 },
 "nbformat": 4,
 "nbformat_minor": 5
}
